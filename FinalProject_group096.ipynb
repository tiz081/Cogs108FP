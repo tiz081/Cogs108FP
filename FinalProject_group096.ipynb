{
 "cells": [
  {
   "cell_type": "markdown",
   "metadata": {},
   "source": [
    "# COGS 108 - Final Project \n",
    "## Surveillance Cameras: An Effective Deterrent or A Waste of Public Resources?"
   ]
  },
  {
   "cell_type": "markdown",
   "metadata": {},
   "source": [
    "# Overview"
   ]
  },
  {
   "cell_type": "markdown",
   "metadata": {},
   "source": [
    "Our project sought to discern any quantifiable effects on the rate of change in violent crime from the installation of surveillance cameras in various neighborhoods of Chicago. This task was accomplished by comparing violent crime rates within neighborhoods with high crime rates before and after their installation. Overall, we found no evidence to suggest that surveillance cameras are effective way to curtail violent crimes."
   ]
  },
  {
   "cell_type": "markdown",
   "metadata": {},
   "source": [
    "# Names\n",
    "\n",
    "- Chaitanya Patel\n",
    "- Kristine Marie Baluyot\n",
    "- Linh Le\n",
    "- Namit Mishra\n",
    "- Tiffany Zhang\n",
    "- Robert Eaton"
   ]
  },
  {
   "cell_type": "markdown",
   "metadata": {},
   "source": [
    "# Group Members IDs\n",
    "\n",
    "- A15346478 \n",
    "- A13447798 \n",
    "- A14201350\n",
    "- A92112718\n",
    "- A13161270\n",
    "- A14190293"
   ]
  },
  {
   "cell_type": "markdown",
   "metadata": {},
   "source": [
    "# Research Question"
   ]
  },
  {
   "cell_type": "markdown",
   "metadata": {},
   "source": [
    "### Was there a significant change to the year-on-year crime rate for violent crimes in neighborhoods of Chicago in a three year period before and after activation of the surveillance cameras in 2003?"
   ]
  },
  {
   "cell_type": "markdown",
   "metadata": {},
   "source": [
    "## Background and Prior Work"
   ]
  },
  {
   "cell_type": "markdown",
   "metadata": {},
   "source": [
    "*Fill in your background and prior work here* \n",
    "\n",
    "References (include links):\n",
    "- 1)\n",
    "- 2)"
   ]
  },
  {
   "cell_type": "markdown",
   "metadata": {},
   "source": [
    "# Hypothesis\n"
   ]
  },
  {
   "cell_type": "markdown",
   "metadata": {},
   "source": [
    "*Fill in your hypotheses here*"
   ]
  },
  {
   "cell_type": "markdown",
   "metadata": {},
   "source": [
    "# Dataset(s)"
   ]
  },
  {
   "cell_type": "markdown",
   "metadata": {},
   "source": [
    "#### First dataset\n",
    "- Dataset Name: Crimes - 2001 to present\n",
    "- Link to the dataset: https://data.cityofchicago.org/Public-Safety/Crimes-2001-to-present/ijzp-q8t2\n",
    "- Number of observations: The number of crimes in this dataset was around 100,000 even after cleaning to our standards.\n",
    "\n",
    "This dataset from the City of Chicago contains all crime data from 2001 to the present. \n",
    "It contains a wealth of information, and many columns not very necessary to our analysis. \n",
    "We focused on the following columns:\n",
    "- Date - to sort it into the 2001-3 block or the 2004-6 block, and ignored the rest.\n",
    "- IUCR - crime code, keeping only violent crimes as defined in Illinois \n",
    "- Primary Type - to sort crimes more specifically\n",
    "- Location description - stating what time of place the crime occurred (such as inside or on the street)\n",
    "- Latitude, Longitude, Location - pinpoints the location of the crime. The ‘Location’ column is simply the Latitude and Longitude pair\n",
    "- Community Area - which district of Chicago\n"
   ]
  },
  {
   "cell_type": "markdown",
   "metadata": {},
   "source": [
    "#### Second dataset\n",
    "- Dataset Name: Blue Light Cameras in the city of Chicago\n",
    "- Link to the dataset: https://redshiftzero.github.io/policesurveillance/\n",
    "- Number of observations: 715 camera locations\n",
    "\n",
    "The camera locations were indicated on a map. Therefore, the data we needed, that is the latitude and logitude of camera locations was embedded in HTML code with Javascript. We used Beautiful Soup along with python regular expressions to extract the data from source code of the link above. The script for extracting the data is as below. The latitude and logitude were saved in a csv file named 'lat_long.csv'. "
   ]
  },
  {
   "cell_type": "code",
   "execution_count": null,
   "metadata": {},
   "outputs": [],
   "source": [
    "import pandas as pd\n",
    "import requests\n",
    "import bs4\n",
    "from bs4 import BeautifulSoup\n",
    "import re\n",
    "import csv\n",
    "import matplotlib \n",
    "\n",
    "cameras = 'https://redshiftzero.github.io/policesurveillance/pod.html'\n",
    "data = requests.get(cameras)\n",
    "soup = BeautifulSoup(data.content, 'html.parser')\n",
    "\n",
    "right_table = soup.find_all('script')\n",
    "what_we_need = right_table[6]\n",
    "\n",
    "# Regular expression to find patterns of data we need\n",
    "pattern = re.compile(\".*var marker_.* = L.marker\\(\\[.*\\n.*\\n\")\n",
    "all_patterns = pattern.findall(what_we_need.string)\n",
    "\n",
    "# Using string functions to convert data to needed form\n",
    "with open('lat_long.csv', mode='w') as camera_file:\n",
    "    camera_file = csv.writer(camera_file, delimiter=',', lineterminator = '\\n', quotechar='\"', quoting=csv.QUOTE_MINIMAL)\n",
    "    camera_file.writerow([\"Latitude\", \"Longitude\"])\n",
    "    for each in all_patterns:\n",
    "        each = each.strip()\n",
    "        each = ' '.join(each.split())\n",
    "        each = each[each.find('[') + 1:each.find(']')]\n",
    "        (lat, long) = each.split(',')\n",
    "        lat = lat.strip()\n",
    "        long = long.strip()\n",
    "        camera_file.writerow([lat, long])"
   ]
  },
  {
   "cell_type": "markdown",
   "metadata": {},
   "source": [
    "# Setup"
   ]
  },
  {
   "cell_type": "code",
   "execution_count": 1,
   "metadata": {},
   "outputs": [],
   "source": [
    "%matplotlib inline\n",
    "\n",
    "import numpy as np\n",
    "import matplotlib.pyplot as plt\n",
    "from matplotlib import pylab\n",
    "import pandas as pd\n",
    "\n",
    "from bs4 import BeautifulSoup\n",
    "import requests\n",
    "import gps_to_neighborhood\n",
    "\n",
    "import statsmodels.api as sm\n",
    "import patsy\n",
    "import scipy.stats as stats\n",
    "from scipy.stats import ttest_ind, chisquare, normaltest"
   ]
  },
  {
   "cell_type": "markdown",
   "metadata": {},
   "source": [
    "#### Importing both the datasets into pandas dataframes. "
   ]
  },
  {
   "cell_type": "code",
   "execution_count": null,
   "metadata": {},
   "outputs": [],
   "source": [
    "df = pd.read_csv('Crimes_-_2001_to_present.csv')\n",
    "df_camera = pd.read_csv('lat_long.csv')"
   ]
  },
  {
   "cell_type": "markdown",
   "metadata": {},
   "source": [
    "# Data Cleaning"
   ]
  },
  {
   "cell_type": "markdown",
   "metadata": {},
   "source": [
    "Because the camera dataset was extracted by us, we already cleaned it to the required standards. \n",
    "#### Below are the dataset to clean the Chicago crime dataset. "
   ]
  },
  {
   "cell_type": "markdown",
   "metadata": {},
   "source": [
    "First, let us keep only the necessary columns: ID, Date, Block, IUCR, Description, Location Description, Arrest, Latitude, Longitude, and Location. Let us also drop any datapoint will NaN value for the location as the analysis is dependent on knowing the neighborhood where the crime occured."
   ]
  },
  {
   "cell_type": "code",
   "execution_count": 4,
   "metadata": {},
   "outputs": [],
   "source": [
    "df.drop(['Block','Case Number','Community Area','Domestic','Beat','District','Ward','FBI Code','X Coordinate','Y Coordinate',\n",
    "         'Year','Updated On','Historical Wards 2003-2015','Zip Codes','Census Tracts','Boundaries - ZIP Codes', 'Location', \n",
    "         'Wards','Police Districts','Police Beats'], axis=1, inplace=True)\n",
    "df.dropna(subset=['Latitude', 'Longitude'], axis='rows', inplace=True)"
   ]
  },
  {
   "cell_type": "markdown",
   "metadata": {},
   "source": [
    "Following are the total type of crimes in our dataset."
   ]
  },
  {
   "cell_type": "code",
   "execution_count": null,
   "metadata": {},
   "outputs": [],
   "source": [
    "df[\"Primary Type\"].unique()"
   ]
  },
  {
   "cell_type": "markdown",
   "metadata": {},
   "source": [
    "As evidenced, there are multiple types of crimes. However, only certain ones are deemed 'violent' under Illinois and federal laws. The next step is to remove rows with non-violent crimes. The source for the definition of violent crimes is http://gis.chicagopolice.org/CLEARMap_crime_sums/crime_types.html."
   ]
  },
  {
   "cell_type": "code",
   "execution_count": null,
   "metadata": {},
   "outputs": [],
   "source": [
    "crimes = df[(df[\"Primary Type\"] == 'BATTERY') & (df[\"IUCR\"] != \"0440\") & (df[\"IUCR\"] != \"0486\") & (df[\"IUCR\"] != \"0460\") & \n",
    "            (df[\"IUCR\"] != '0484') & (df['IUCR'] != '0454') & (df['IUCR'] != '0487') & (df['IUCR'] != '0475')|\n",
    "            (df[\"Primary Type\"] == 'ROBBERY') | \n",
    "            (df[\"Primary Type\"] == 'ASSAULT') & (df[\"IUCR\"] != '0560') & (df['IUCR'] != '0554') & (df['IUCR'] != '0545')|\n",
    "            (df[\"Primary Type\"] == 'CRIM SEXUAL ASSAULT') | (df[\"Primary Type\"] == 'HOMICIDE') | \n",
    "            (df[\"IUCR\"] ==\"1753\") | (df[\"IUCR\"] == \"1754\") | (df['IUCR']==\"0510\") | \n",
    "            (df[\"Primary Type\"] == \"RITUALISM\") & (df[\"IUCR\"] != \"0494\")]"
   ]
  },
  {
   "cell_type": "markdown",
   "metadata": {},
   "source": [
    "Next, since such cameras are only in public locations, it would make sense to remove crimes which occur inside. Obviously, there is some discretion with what place categories are selected. Since the CPD cameras in the dataset are only on streets (not inside housing, restaurants, or in transit stations), crimes which did not explicitly occur in a public location were removed. Looking at the different types of locations:"
   ]
  },
  {
   "cell_type": "code",
   "execution_count": null,
   "metadata": {},
   "outputs": [],
   "source": [
    "d.options.mode.chained_assignment = None\n",
    "crimes.dropna(subset=['Location Description'], inplace=True)\n",
    "crimes = crimes[(crimes[\"Location Description\"] == \"PARKING LOT/GARAGE(NON.RESID.)\") | \n",
    "                (crimes[\"Location Description\"] == \"STREET\" )| (crimes[\"Location Description\"] == \"ALLEY\") |\n",
    "                (crimes[\"Location Description\"] == \"SIDEWALK\")|(crimes[\"Location Description\"] == \"RESIDENCE PORCH/HALLWAY\")|\n",
    "                (crimes[\"Location Description\"] == \"CHA PARKING LOT/GROUNDS\")|\n",
    "                (crimes[\"Location Description\"] == \"GAS STATION\")|\n",
    "                (crimes[\"Location Description\"] == \"POLICE FACILITY/VEH PARKING LOT\") |\n",
    "                (crimes[\"Location Description\"] == \"VACANT LOT/LAND\")|(crimes[\"Location Description\"] == \"PARK PROPERTY\")|\n",
    "                (crimes[\"Location Description\"] == \"CTA GARAGE / OTHER PROPERTY\")|\n",
    "                (crimes[\"Location Description\"] == \"DRIVEWAY - RESIDENTIAL\") |\n",
    "                (crimes[\"Location Description\"] == \"PARKING LOT\") | (crimes[\"Location Description\"] == \"PORCH\")|\n",
    "                (crimes[\"Location Description\"] == \"YARD\")| \n",
    "                (crimes[\"Location Description\"] == \"RESIDENTIAL YARD (FRONT/BACK)\") |\n",
    "                (crimes[\"Location Description\"] == \"HIGHWAY/EXPRESSWAY\")|\n",
    "                (crimes[\"Location Description\"] == \"CHA PARKING LOT\") |\n",
    "                (crimes[\"Location Description\"] == \"BRIDGE\")| (crimes[\"Location Description\"] == \"YARD\")|\n",
    "                (crimes[\"Location Description\"] == \"LAKEFRONT/WATERFRONT/RIVERBANK\")|\n",
    "                (crimes[\"Location Description\"] == \"DRIVEWAY\")]"
   ]
  },
  {
   "cell_type": "markdown",
   "metadata": {},
   "source": [
    "Next, let us look at the Date column. Out analysis requires a comparison between 2001-2003 crime and 2004-2006 crime. Hence, we separate the crime data of the two time periods. "
   ]
  },
  {
   "cell_type": "code",
   "execution_count": null,
   "metadata": {},
   "outputs": [],
   "source": [
    "crimesBefore = crimes[(crimes[\"Date\"].str[6:10] == '2001') | (crimes[\"Date\"].str[6:10] == '2002') | \n",
    "                (crimes[\"Date\"].str[6:10] == '2003')]\n",
    "crimesAfter = crimes[(crimes[\"Date\"].str[6:10] == '2004') | (crimes[\"Date\"].str[6:10] == '2005') | \n",
    "                (crimes[\"Date\"].str[6:10] == '2006')]"
   ]
  },
  {
   "cell_type": "markdown",
   "metadata": {},
   "source": [
    "Because the limits of neighborhoods decided by the Chicago city change every few years, they were not consistent throughout the dataset. So for consistency, we used a script available on GitHub to ascertain the neighborhoods of the crime. Chicago city used the term community areas for different neighborhoods, so from this point on neighborhoods and community area will be used synonimously in this report. Source of the script to find neighborhoods is: https://github.com/jkgiesler/parse-chicago-neighborhoods "
   ]
  },
  {
   "cell_type": "markdown",
   "metadata": {},
   "source": [
    "Now, let us update the dataframes to add the neighborhoods of each crime. Starting with the camera dataset, let's add another column indicating community area of each camera."
   ]
  },
  {
   "cell_type": "code",
   "execution_count": null,
   "metadata": {},
   "outputs": [],
   "source": [
    "# all_neighborhoods = gps_to_neighborhood.get_all_neighborhoods()\n",
    "# list_name = []\n",
    "# list_area = []\n",
    "# for index, row in df_camera.iterrows():\n",
    "#     neighborhood = gps_to_neighborhood.find_neighborhood(row['Longitude'],row['Latitude'],all_neighborhoods)\n",
    "#     if neighborhood is not None:\n",
    "#         list_name.append(neighborhood[0])\n",
    "#         list_area.append(neighborhood[1])\n",
    "#     else:\n",
    "#         list_name.append('None')\n",
    "#         list_area.append('None')\n",
    "# df_camera['Community Areas'] = list_name\n",
    "# df_camera['Area(unit)'] = list_area\n",
    "\n",
    "# df_camera = df_camera[df_camera['Community Areas'] != 'None']\n",
    "# df_camera.to_csv('lat_long.csv', index=False, header=True)\n",
    " \n",
    "df_camera = pd.read_csv('lat_long.csv')"
   ]
  },
  {
   "cell_type": "markdown",
   "metadata": {},
   "source": [
    "Let us do the same for the crimes dataframe. Because this process take a long time for large datasets, approximately 20 minutes, we saved the dataframes to csv files so we do not have to repeat the process multiple times. "
   ]
  },
  {
   "cell_type": "code",
   "execution_count": null,
   "metadata": {},
   "outputs": [],
   "source": [
    "# list_name = []\n",
    "# list_area = []\n",
    "# for index, row in crimesBefore.iterrows():\n",
    "#     neighborhood = gps_to_neighborhood.find_neighborhood(row['Longitude'],row['Latitude'],all_neighborhoods)\n",
    "#     if neighborhood is not None:\n",
    "#         list_name.append(neighborhood[0])\n",
    "#         list_area.append(neighborhood[1])\n",
    "#     else:\n",
    "#         list_name.append('None')\n",
    "#         list_area.append('None')\n",
    "# crimesBefore['Community Areas'] = list_name\n",
    "# crimesBefore['Area(unit)'] = list_area\n",
    "# crimesBefore = crimesBefore[crimesBefore['Community Areas'] != 'None']\n",
    "\n",
    "# crimesBefore.to_csv('CrimesBefore.csv', index=False, header=True)\n",
    "crimesBefore = pd.read_csv('CrimesBefore.csv')"
   ]
  },
  {
   "cell_type": "markdown",
   "metadata": {},
   "source": [
    "Doing the same for crimes that occured in the years 2004-06. "
   ]
  },
  {
   "cell_type": "code",
   "execution_count": null,
   "metadata": {},
   "outputs": [],
   "source": [
    "# list_name = []\n",
    "# list_area = []\n",
    "# for index, row in crimesAfter.iterrows():\n",
    "#     neighborhood = gps_to_neighborhood.find_neighborhood(row['Longitude'],row['Latitude'],all_neighborhoods)\n",
    "#     if neighborhood is not None:\n",
    "#         list_name.append(neighborhood[0])\n",
    "#         list_area.append(neighborhood[1])\n",
    "#     else:\n",
    "#         list_name.append('None')\n",
    "#         list_area.append('None')\n",
    "# crimesAfter['Community Areas'] = list_name\n",
    "# crimesAfter['Area(unit)'] = list_area\n",
    "# crimesAfter = crimesAfter[crimesAfter['Community Areas'] != 'None']\n",
    "\n",
    "# crimesAfter.to_csv('crimesAfter.csv', index=False, header=True)\n",
    "crimesAfter = pd.read_csv('CrimesAfter.csv')"
   ]
  },
  {
   "cell_type": "markdown",
   "metadata": {},
   "source": [
    "Now, let us group the crime data by neighborhoods. This way we will be able to analyse the effectiveness of cameras by neighborhoods. "
   ]
  },
  {
   "cell_type": "code",
   "execution_count": null,
   "metadata": {},
   "outputs": [],
   "source": [
    "# Grouping by community areas before and after the cameras were installed.\n",
    "sumCrimesBefore = crimesBefore['Community Areas'].value_counts().rename_axis('Community Areas').reset_index(name='2001-03')\n",
    "sumCrimesAfter = crimesAfter['Community Areas'].value_counts().rename_axis('Community Areas').reset_index(name='2004-06')\n",
    "\n",
    "# We will use left merge to create a singular dataframe with columns \n",
    "# community areas, crimes in 2001-03, crimes in 2004-06 and the difference between the two. \n",
    "totalCrimes = sumCrimesBefore.merge(sumCrimesAfter, how = 'left')\n",
    "totalCrimes['Difference'] = totalCrimes['2004-06'] - totalCrimes['2001-03']"
   ]
  },
  {
   "cell_type": "markdown",
   "metadata": {},
   "source": [
    "Lastly, let's do the same wrangling for the camera dataset. We will avoid analysing neighborhoods with less than 10 cameras. Reason being, less than 10 datapoints will not give us a clear idea. The number 10 was decided by manually trying different numbers are observing the bias."
   ]
  },
  {
   "cell_type": "code",
   "execution_count": null,
   "metadata": {},
   "outputs": [],
   "source": [
    "above_10 = df_camera.groupby('Community Areas').filter(lambda x : len(x)>9)\n",
    "df_camera_above_10 = above_10['Community Areas'].value_counts().rename_axis('Community Areas').reset_index(name='Counts')"
   ]
  },
  {
   "cell_type": "markdown",
   "metadata": {},
   "source": [
    "# Data Analysis & Results"
   ]
  },
  {
   "cell_type": "markdown",
   "metadata": {},
   "source": [
    "Include cells that describe the steps in your data analysis."
   ]
  },
  {
   "cell_type": "code",
   "execution_count": 5,
   "metadata": {},
   "outputs": [],
   "source": [
    "## YOUR CODE HERE\n",
    "## FEEL FREE TO ADD MULTIPLE CELLS PER SECTION"
   ]
  },
  {
   "cell_type": "markdown",
   "metadata": {},
   "source": [
    "# Ethics & Privacy"
   ]
  },
  {
   "cell_type": "markdown",
   "metadata": {},
   "source": [
    "*Fill in your ethics & privacy discussion here*"
   ]
  },
  {
   "cell_type": "markdown",
   "metadata": {},
   "source": [
    "# Conclusion & Discussion"
   ]
  },
  {
   "cell_type": "markdown",
   "metadata": {},
   "source": [
    "*Fill in your discussion information here*"
   ]
  }
 ],
 "metadata": {
  "kernelspec": {
   "display_name": "Python 3",
   "language": "python",
   "name": "python3"
  },
  "language_info": {
   "codemirror_mode": {
    "name": "ipython",
    "version": 3
   },
   "file_extension": ".py",
   "mimetype": "text/x-python",
   "name": "python",
   "nbconvert_exporter": "python",
   "pygments_lexer": "ipython3",
   "version": "3.6.6"
  }
 },
 "nbformat": 4,
 "nbformat_minor": 2
}
